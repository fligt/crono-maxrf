{
 "cells": [
  {
   "cell_type": "code",
   "execution_count": null,
   "metadata": {},
   "outputs": [],
   "source": [
    "#default_exp interpolation"
   ]
  },
  {
   "cell_type": "code",
   "execution_count": null,
   "metadata": {},
   "outputs": [],
   "source": [
    "#hide \n",
    "%load_ext autoreload\n",
    "%autoreload 2"
   ]
  },
  {
   "cell_type": "code",
   "execution_count": null,
   "metadata": {},
   "outputs": [],
   "source": [
    "#hide \n",
    "import os \n",
    "os.chdir('/home/frank/Work/Projecten/DoRe/data/maxrf/crono')"
   ]
  },
  {
   "cell_type": "markdown",
   "metadata": {},
   "source": [
    "# Interpolation gymnastics \n",
    "\n",
    "> How to convert wobbly positions into a regular spectral image data cube?  \n"
   ]
  },
  {
   "cell_type": "markdown",
   "metadata": {},
   "source": []
  },
  {
   "cell_type": "code",
   "execution_count": null,
   "metadata": {},
   "outputs": [
    {
     "name": "stdout",
     "output_type": "stream",
     "text": [
      "[0] /Configuration/FinalSystemStatus\n",
      "[1] /Configuration/InitialSystemStatus\n",
      "[2] /Configuration/Settings\n",
      "[3] /CreatedDateTime\n",
      "[4] /CreatedWithSoftwareVersion\n",
      "[5] /FileStructureVersion\n",
      "[6] /Images/Documentation\n",
      "[7] /Images/ImageAdjusting/ImagePixelSizeRatio\n",
      "[8] /Images/Static\n",
      "[9] /Images/StitchedImage\n",
      "[10] /Images/VideoStreams\n",
      "[11] /XRF/CalibrationPoints\n",
      "[12] /XRF/DPPStartTimestamp\n",
      "[13] /XRF/Detected\n",
      "[14] /XRF/EnergyVector\n",
      "[15] /XRF/LiveTimes\n",
      "[16] /XRF/Maps/ComputedMaps\n",
      "[17] /XRF/MotorsPositions\n",
      "[18] /XRF/MotorsPositionsStats\n",
      "[19] /XRF/MotorsTimestamps\n",
      "[20] /XRF/OutputCountRates\n",
      "[21] /XRF/ROIs/ROIsEnergies\n",
      "[22] /XRF/ROIs/ROIsNames\n",
      "[23] /XRF/ROIs/ROIsObjects\n",
      "[24] /XRF/RealTimes\n",
      "[25] /XRF/ResetCounterValue\n",
      "[26] /XRF/Spectra\n",
      "[27] /XRF/SpectraIDs\n",
      "[28] /XRF/SpectraSelectedIndex\n",
      "[29] /XRF/Timestamps\n",
      "[30] /XRF/XComputedMapsCoordinate\n",
      "[31] /XRF/YComputedMapsCoordinate\n"
     ]
    }
   ],
   "source": [
    "from cronomaxrf import read_datasets, peek_inside, report \n",
    "\n",
    "crono_filename = '14200215102021-blindTest2AgedDetail.HDF5'   # 50 Mb \n",
    "datasets = read_datasets(crono_filename)\n",
    "\n",
    "for i, d in enumerate(datasets): \n",
    "    print(f'[{i}] {d.name}')"
   ]
  },
  {
   "cell_type": "markdown",
   "metadata": {},
   "source": [
    "The actual spectral data that we would like to visualize is stored in dataset **26**. We have already seen that the energy calibration is in dataset **14**. Let's plot an arbitrary spectrum to get an idea.  "
   ]
  },
  {
   "cell_type": "code",
   "execution_count": null,
   "metadata": {},
   "outputs": [
    {
     "data": {
      "image/png": "[encoded data removed]",
      "text/plain": [
       "<Figure size 1080x360 with 1 Axes>"
      ]
     },
     "metadata": {
      "needs_background": "light"
     },
     "output_type": "display_data"
    }
   ],
   "source": [
    "import matplotlib.pyplot as plt \n",
    "\n",
    "spectra = datasets[26][...]\n",
    "energies = datasets[14][...]\n",
    "my_spectrum = spectra[1234] # arbitrary \n",
    "\n",
    "fig, ax = plt.subplots(figsize=[15, 5])\n",
    "\n",
    "ax.plot(energies, my_spectrum)\n",
    "ax.set_xlabel('energy [keV]')\n",
    "ax.set_ylabel('intensity [# counts]')\n",
    "ax.set_title('XRF spectrum #1234');"
   ]
  },
  {
   "cell_type": "markdown",
   "metadata": {},
   "source": [
    "This spectrum looks like a broken comb. Very few intensity values exceed two photons! It will be very hard to work with such data directly. So below I will perform a Gaussian smoothing filter first.   "
   ]
  },
  {
   "cell_type": "code",
   "execution_count": null,
   "metadata": {},
   "outputs": [
    {
     "name": "stdout",
     "output_type": "stream",
     "text": [
      "The data contains 4284 spectra, and each spectrum contains 4096 energy channels.\n"
     ]
    }
   ],
   "source": [
    "n_spectra, n_channels = spectra.shape\n",
    "print(f'The data contains {n_spectra} spectra, and each spectrum contains {n_channels} energy channels.')"
   ]
  },
  {
   "cell_type": "code",
   "execution_count": null,
   "metadata": {},
   "outputs": [
    {
     "name": "stdout",
     "output_type": "stream",
     "text": [
      "/XRF/Spectra:\n",
      "\n",
      "+ATTRIBUTES: (none)\n",
      "\n",
      "+SHAPE: (4284, 4096) DTYPE: 'uint16'\n",
      "\n",
      "+VALUES: \n",
      "'array([[0, 0, 0, ..., 0, 0, 0],\n",
      "       [0, 0, 0, ..., 0, 0, 0],\n",
      "       [0, 0, 0, ..., 0, 0, 0],\n",
      "       ...,\n",
      "       [0, 0, 0, ..., 0, 0, 0],\n",
      "       [0, 0, 0, ..., 0, 0, 0],\n",
      "       [0, 0, 0, ..., 0, 0, 0]], dtype=uint16)'\n",
      "\n",
      "\n"
     ]
    }
   ],
   "source": [
    "peek_inside(datasets[26])"
   ]
  },
  {
   "cell_type": "markdown",
   "metadata": {},
   "source": [
    "This dataset contains 4284 spectra with 4096 channels each. Its values are integer photon counts. It is instructive to see how a typical spectrum looks like. So let's plot an arbitrary spectrum. "
   ]
  },
  {
   "cell_type": "markdown",
   "metadata": {},
   "source": []
  },
  {
   "cell_type": "code",
   "execution_count": null,
   "metadata": {},
   "outputs": [],
   "source": [
    "motors_positions = fh['/XRF/MotorsPositions'][()]\n",
    "x, y, z = motors_positions.T\n",
    "\n",
    "spectra_selected_index = fh['/XRF/SpectraSelectedIndex'][()]\n",
    "spectra_indices = spectra_selected_index.flatten() # useful for plotting\n",
    "\n",
    "height, width, _ = spectra_selected_index.shape \n",
    "n_sel_spectra = height * width\n",
    "print(f'The (selected) spectral image cube has a height x width of {height} x {width} pixels = {n_sel_spectra} spectra.')"
   ]
  }
 ],
 "metadata": {
  "kernelspec": {
   "display_name": "Python 3",
   "language": "python",
   "name": "python3"
  }
 },
 "nbformat": 4,
 "nbformat_minor": 2
}
