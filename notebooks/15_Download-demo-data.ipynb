{
 "cells": [
  {
   "cell_type": "code",
   "execution_count": null,
   "metadata": {},
   "outputs": [],
   "source": [
    "#default_exp data"
   ]
  },
  {
   "cell_type": "code",
   "execution_count": null,
   "metadata": {},
   "outputs": [],
   "source": [
    "#hide \n",
    "%load_ext autoreload\n",
    "%autoreload 2"
   ]
  },
  {
   "cell_type": "code",
   "execution_count": null,
   "metadata": {},
   "outputs": [],
   "source": [
    "#hide \n",
    "import os \n",
    "os.chdir('/home/frank/Work/Projecten/DoRe/data/maxrf/crono')"
   ]
  },
  {
   "cell_type": "markdown",
   "metadata": {},
   "source": [
    "# Download demo data \n",
    "\n",
    "> In case you do not have a Crono scanner nearby and would like to give it a try  "
   ]
  },
  {
   "cell_type": "markdown",
   "metadata": {},
   "source": [
    "Because we like to study historic inks in our lab, my colleague Birgit Reissland prepared an artificially aged sample with iron-gall ink on paper. A detail was scanned with the Crono MA-XRF instrument.  "
   ]
  },
  {
   "cell_type": "markdown",
   "metadata": {},
   "source": [
    "<img width=50% src=\"https://f002.backblazeb2.com/file/crono-maxrf-data-demo/Ink-08-aged-VIS.png\">\n"
   ]
  },
  {
   "cell_type": "markdown",
   "metadata": {},
   "source": [
    "In case you might want to experiment with the `cronomaxrf` package you can download a demo set containing the original HDF5 file: \n",
    "\n",
    "    (2) 14200215102021-blindTest2AgedDetail.HDF5 (50.6Mb)\n",
    "\n",
    "Also included in the demo dataset are **another** HDF5 file and an iron map as exported by the Crono software, and a photo of the scan area. \n",
    "\n",
    "    (1) 14200215102021-blindTest2AgedDetail.2022214166.Exported.HDF5 (2.7Mb)\n",
    "    (2) 14200215102021-blindTest2AgedDetail.HDF5 (50.6Mb)\n",
    "    (3) 14200215102021-blindTest2AgedDetail_FeKa.png (1.2Mb)\n",
    "    (4) Ink-08-aged-VIS.png (4.5Mb)"
   ]
  },
  {
   "cell_type": "markdown",
   "metadata": {},
   "source": [
    "You can download the files to your current working directory from my [Backblaze](https://www.backblaze.com/) cloud storage by running the code below.  For now, in order to run the code you will need to install the python package [b2sdk](https://b2-sdk-python.readthedocs.io/en/master/install.html). If you have problems installing the backblaze python package, you can download the HDF5 and image file manually by clicking on the links here: [HDF5](https://f002.backblazeb2.com/file/crono-maxrf-data-demo/14200215102021-blindTest2AgedDetail.HDF5), [image](https://f002.backblazeb2.com/file/crono-maxrf-data-demo/Ink-08-aged-VIS.png)"
   ]
  },
  {
   "cell_type": "code",
   "execution_count": null,
   "metadata": {},
   "outputs": [
    {
     "name": "stdout",
     "output_type": "stream",
     "text": [
      "Backblaze cloud storage bucket crono-maxrf-data-demo contains the following files: \n",
      "(1) 14200215102021-blindTest2AgedDetail.2022214166.Exported.HDF5 (2.7Mb)\n",
      "(2) 14200215102021-blindTest2AgedDetail.HDF5 (50.6Mb)\n",
      "(3) 14200215102021-blindTest2AgedDetail_FeKa.png (1.2Mb)\n",
      "(4) Ink-08-aged-VIS.png (4.5Mb)\n",
      "\n",
      "Please wait while downloading all files from bucket...\n",
      "Ready!\n"
     ]
    }
   ],
   "source": [
    "from cronomaxrf import download \n",
    "\n",
    "download()"
   ]
  },
  {
   "cell_type": "markdown",
   "metadata": {},
   "source": [
    "# API "
   ]
  },
  {
   "cell_type": "code",
   "execution_count": null,
   "metadata": {},
   "outputs": [],
   "source": [
    "#export \n",
    "\n",
    "import b2sdk.v2 as b2\n",
    "\n",
    "def download(): \n",
    "    '''Download all datafiles to try the demo. '''\n",
    "    \n",
    "    # Backblaze cloud storage credentials          \n",
    "    bucket_name='crono-maxrf-data-demo' \n",
    "    application_key_id='002c0259a1c18960000000005'  \n",
    "    application_key='K0021ZxgvJXexIPG6cpTRHOBOQ64ceo'\n",
    "\n",
    "    # open connection to bucket \n",
    "    info = b2.InMemoryAccountInfo()\n",
    "    b2_api = b2.B2Api(info) \n",
    "    b2_api.authorize_account('production',  application_key_id, application_key)\n",
    "\n",
    "    # get bucket info \n",
    "    bucket = b2_api.get_bucket_by_name(bucket_name)\n",
    "    bucket_dict_list = [f[0].as_dict() for f in bucket.ls()]\n",
    "    bucket_filenames = [d['fileName'] for d in bucket_dict_list]\n",
    "    bucket_filesizes = [d['size'] for d in bucket_dict_list]\n",
    "\n",
    "    print(f'Backblaze cloud storage bucket {bucket_name} contains the following files: ')    \n",
    "    for i, [fname, fsize] in enumerate(zip(bucket_filenames, bucket_filesizes)): \n",
    "        print(f'({i+1}) {fname} ({fsize / 1e6:0.1f}Mb)')\n",
    "\n",
    "    print('\\nPlease wait while downloading all files from bucket into your current working directory...')\n",
    "\n",
    "    for i, fname in enumerate(bucket_filenames): \n",
    "        fh = bucket.download_file_by_name(fname)\n",
    "        fh.save_to(fname) \n",
    "    print('Ready!')"
   ]
  }
 ],
 "metadata": {
  "kernelspec": {
   "display_name": "Python 3",
   "language": "python",
   "name": "python3"
  }
 },
 "nbformat": 4,
 "nbformat_minor": 2
}
