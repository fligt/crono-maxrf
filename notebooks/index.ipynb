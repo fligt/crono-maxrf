{
 "cells": [
  {
   "cell_type": "markdown",
   "metadata": {},
   "source": [
    "# Welcome to cronomaxrf \n",
    "\n",
    "> An open source Python package for reading and converting the Crono MA-XRF HDF5 file format  "
   ]
  },
  {
   "cell_type": "markdown",
   "metadata": {},
   "source": [
    "Recently my lab, the Rijkserfgoedlaboratorium in Amsterdam, acquired a new Bruker Crono X-Ray Fluorescence spectral image (MACRO-XRF) scanner. This instrument saves its raw data into a specific type of HDF5 file format. Currently these files can only be read and converted by commercially licensed Crono software. This situation restricts access to the data to a limited number of researchers who can run the software. Furthermore, it is likely that we will loose the ability to read the data at some point in the future.   \n",
    "\n",
    "\n",
    "In order to make optimal use of the Crono data in collaborative research projects now and to make sure that we can still read the data in the future we need to: 1) understand the Crono HDF5 file format, and 2) develop open software tools available to all researchers for reading and converting these data files. \n",
    "\n",
    "The `cronomaxrf` package is currently being developed under the GPLv3 open source software license. Our plan is to make it available for installation soon! If you can not wait for that, you can already follow our ideas real-time in this repository. "
   ]
  }
 ],
 "metadata": {
  "kernelspec": {
   "display_name": "Python 3",
   "language": "python",
   "name": "python3"
  },
  "language_info": {
   "codemirror_mode": {
    "name": "ipython",
    "version": 3
   },
   "file_extension": ".py",
   "mimetype": "text/x-python",
   "name": "python",
   "nbconvert_exporter": "python",
   "pygments_lexer": "ipython3",
   "version": "3.7.4"
  },
  "toc": {
   "base_numbering": 1,
   "nav_menu": {},
   "number_sections": false,
   "sideBar": true,
   "skip_h1_title": false,
   "title_cell": "Table of Contents",
   "title_sidebar": "Contents",
   "toc_cell": false,
   "toc_position": {},
   "toc_section_display": true,
   "toc_window_display": false
  }
 },
 "nbformat": 4,
 "nbformat_minor": 2
}
