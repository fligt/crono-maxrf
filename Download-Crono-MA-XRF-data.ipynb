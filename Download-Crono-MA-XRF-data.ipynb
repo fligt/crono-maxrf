{
 "cells": [
  {
   "cell_type": "markdown",
   "metadata": {},
   "source": [
    "# Download Crono MA-XRF demo data "
   ]
  },
  {
   "cell_type": "markdown",
   "metadata": {},
   "source": [
    "If you want to experiment with the Crono MA-XRF data yourself, you can download the files to your current working directory from my [Backblaze](https://www.backblaze.com/) cloud storage by running the code below. \n",
    "\n",
    "In order to run the code you will need to install the python package [b2sdk](https://b2-sdk-python.readthedocs.io/en/master/install.html). "
   ]
  },
  {
   "cell_type": "code",
   "execution_count": 1,
   "metadata": {
    "ExecuteTime": {
     "end_time": "2021-10-31T15:27:49.309013Z",
     "start_time": "2021-10-31T15:27:49.302061Z"
    }
   },
   "outputs": [
    {
     "name": "stdout",
     "output_type": "stream",
     "text": [
      "/mnt/datadisk/Work/Projecten/DoRe/data/maxrf/crono\n"
     ]
    }
   ],
   "source": [
    "cd /home/frank/Work/Projecten/DoRe/data/maxrf/crono "
   ]
  },
  {
   "cell_type": "code",
   "execution_count": 2,
   "metadata": {
    "ExecuteTime": {
     "end_time": "2021-10-31T15:28:07.006340Z",
     "start_time": "2021-10-31T15:27:50.657845Z"
    }
   },
   "outputs": [
    {
     "name": "stdout",
     "output_type": "stream",
     "text": [
      "Backblaze cloud storage bucket crono-maxrf-data-demo contains the following files: \n",
      "(1) 14200215102021-blindTest2AgedDetail.HDF5 (50.6Mb)\n",
      "(2) Ink-08-aged-VIS.png (4.5Mb)\n",
      "\n",
      "Please wait while downloading all files from bucket...\n",
      "Ready!\n"
     ]
    }
   ],
   "source": [
    "import b2sdk.v2 as b2\n",
    "    \n",
    "# Backblaze cloud storage credentials          \n",
    "bucket_name='crono-maxrf-data-demo' \n",
    "application_key_id='002c0259a1c18960000000005'  \n",
    "application_key='K0021ZxgvJXexIPG6cpTRHOBOQ64ceo'\n",
    "\n",
    "# open connection to bucket \n",
    "info = b2.InMemoryAccountInfo()\n",
    "b2_api = b2.B2Api(info) \n",
    "b2_api.authorize_account('production',  application_key_id, application_key)\n",
    "\n",
    "# get bucket info \n",
    "bucket = b2_api.get_bucket_by_name(bucket_name)\n",
    "bucket_dict_list = [f[0].as_dict() for f in bucket.ls()]\n",
    "bucket_filenames = [d['fileName'] for d in bucket_dict_list]\n",
    "bucket_filesizes = [d['size'] for d in bucket_dict_list]\n",
    "\n",
    "print(f'Backblaze cloud storage bucket {bucket_name} contains the following files: ')    \n",
    "for i, [fname, fsize] in enumerate(zip(bucket_filenames, bucket_filesizes)): \n",
    "    print(f'({i+1}) {fname} ({fsize / 1e6:0.1f}Mb)')\n",
    "    \n",
    "print('\\nPlease wait while downloading all files from bucket...')\n",
    "\n",
    "for i, fname in enumerate(bucket_filenames): \n",
    "    fh = bucket.download_file_by_name(fname)\n",
    "    fh.save_to(fname) \n",
    "print('Ready!')"
   ]
  },
  {
   "cell_type": "code",
   "execution_count": null,
   "metadata": {},
   "outputs": [],
   "source": []
  }
 ],
 "metadata": {
  "kernelspec": {
   "display_name": "Python 3",
   "language": "python",
   "name": "python3"
  },
  "language_info": {
   "codemirror_mode": {
    "name": "ipython",
    "version": 3
   },
   "file_extension": ".py",
   "mimetype": "text/x-python",
   "name": "python",
   "nbconvert_exporter": "python",
   "pygments_lexer": "ipython3",
   "version": "3.7.4"
  },
  "toc": {
   "base_numbering": 1,
   "nav_menu": {},
   "number_sections": true,
   "sideBar": true,
   "skip_h1_title": false,
   "title_cell": "Table of Contents",
   "title_sidebar": "Contents",
   "toc_cell": false,
   "toc_position": {
    "height": "calc(100% - 180px)",
    "left": "10px",
    "top": "150px",
    "width": "408.4px"
   },
   "toc_section_display": true,
   "toc_window_display": true
  }
 },
 "nbformat": 4,
 "nbformat_minor": 2
}
